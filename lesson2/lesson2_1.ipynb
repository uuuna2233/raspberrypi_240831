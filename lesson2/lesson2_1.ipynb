{
 "cells": [
  {
   "cell_type": "code",
   "execution_count": 1,
   "metadata": {},
   "outputs": [
    {
     "name": "stdout",
     "output_type": "stream",
     "text": [
      "yes\n"
     ]
    }
   ],
   "source": [
    "age = 19\n",
    "if age < 18:\n",
    "    print(\"no\")\n",
    "else:\n",
    "    print(\"yes\")"
   ]
  },
  {
   "cell_type": "code",
   "execution_count": 11,
   "metadata": {},
   "outputs": [],
   "source": [
    "score = 250"
   ]
  },
  {
   "cell_type": "code",
   "execution_count": 9,
   "metadata": {},
   "outputs": [
    {
     "name": "stdout",
     "output_type": "stream",
     "text": [
      "錯誤訊息為 輸入分數不可超過300分)\n",
      "程式結束\n"
     ]
    }
   ],
   "source": [
    "try:\n",
    "    score = int(input(\"請輸入學生成績(最高300分)\"))\n",
    "    if score > 300:\n",
    "        raise Exception(\"輸入分數不可超過300分\")\n",
    "    is_add = input(\"是否符合加分條件?(Y,N)\")\n",
    "    \n",
    "    if is_add in ['Y','y']:\n",
    "        score *= 1.05\n",
    "        if score > 300:\n",
    "            score = 300\n",
    "except ValueError:\n",
    "    print('輸入錯誤')\n",
    "except Exception as e:\n",
    "    print(f'錯誤訊息為 {e}')\n",
    "else:\n",
    "    print(f'學生分數是: {score}')\n",
    "\n",
    "print('程式結束')"
   ]
  }
 ],
 "metadata": {
  "kernelspec": {
   "display_name": "venv1",
   "language": "python",
   "name": "python3"
  },
  "language_info": {
   "codemirror_mode": {
    "name": "ipython",
    "version": 3
   },
   "file_extension": ".py",
   "mimetype": "text/x-python",
   "name": "python",
   "nbconvert_exporter": "python",
   "pygments_lexer": "ipython3",
   "version": "3.11.9"
  }
 },
 "nbformat": 4,
 "nbformat_minor": 2
}
